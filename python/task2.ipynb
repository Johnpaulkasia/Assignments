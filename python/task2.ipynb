{
 "cells": [
  {
   "cell_type": "code",
   "execution_count": 1,
   "id": "adda7605",
   "metadata": {},
   "outputs": [
    {
     "name": "stdout",
     "output_type": "stream",
     "text": [
      "number of brackets:3\n",
      "['((()))']\n",
      "['(()())']\n",
      "['(())()']\n",
      "['()(())']\n",
      "['()()()']\n"
     ]
    }
   ],
   "source": [
    "def task(no_br,str, open_br, close_br, pos):\n",
    "    last=[]\n",
    "    if( no_br >= 1 and no_br <= 8):\n",
    "\n",
    "        if (open_br < no_br):\n",
    "            str[pos] = '('\n",
    "            task(no_br, str, open_br+1, close_br, pos+1)\n",
    "   \n",
    "        if (open_br > close_br):\n",
    "            str[pos] = ')'\n",
    "            task(no_br, str, open_br, close_br+1, pos+1)\n",
    "       \n",
    "        if (close_br == no_br):\n",
    "\n",
    "            b = ''.join(str)\n",
    "            last.append(b)\n",
    "            print(last)\n",
    "       \n",
    "       \n",
    "       \n",
    "    else:\n",
    "        print(\"youre violating constraints!\")\n",
    "\n",
    "\n",
    "open_br = close_br = pos = 0\n",
    "no_br = int(input('number of brackets:'))\n",
    "str = [' '] * 2 * no_br\n",
    "task(no_br,str, open_br, close_br, pos)\n"
   ]
  },
  {
   "cell_type": "code",
   "execution_count": null,
   "id": "6f367865",
   "metadata": {},
   "outputs": [],
   "source": []
  }
 ],
 "metadata": {
  "kernelspec": {
   "display_name": "Python 3 (ipykernel)",
   "language": "python",
   "name": "python3"
  },
  "language_info": {
   "codemirror_mode": {
    "name": "ipython",
    "version": 3
   },
   "file_extension": ".py",
   "mimetype": "text/x-python",
   "name": "python",
   "nbconvert_exporter": "python",
   "pygments_lexer": "ipython3",
   "version": "3.9.12"
  }
 },
 "nbformat": 4,
 "nbformat_minor": 5
}
