{
 "cells": [
  {
   "cell_type": "code",
   "execution_count": 1,
   "id": "b017f538",
   "metadata": {},
   "outputs": [
    {
     "name": "stdout",
     "output_type": "stream",
     "text": [
      "Enter your string:pwwwkew\n",
      "The longest substring without repeating characters is  3\n"
     ]
    }
   ],
   "source": [
    "def unique(s, a, b):\n",
    "   \n",
    "    seen = [0]*(26)\n",
    " \n",
    "    for c in range(a, b + 1):\n",
    "        if (seen[ord(s[c]) -\n",
    "                   ord('a')] == True):\n",
    "            return False\n",
    "             \n",
    "        seen[ord(s[c]) -\n",
    "                ord('a')] = True\n",
    " \n",
    "    return True\n",
    " \n",
    "def longestSubstr(s):\n",
    "     \n",
    "    n = len(s)\n",
    "     \n",
    "    res = 0\n",
    "     \n",
    "    for i in range(n):\n",
    "        for j in range(i, n):\n",
    "            if (unique(s, i, j)):\n",
    "                res = max(res, j - i + 1)\n",
    "                 \n",
    "    return res\n",
    " \n",
    "if __name__ == '__main__':\n",
    "     \n",
    "    s = str(input('Enter your string:'))\n",
    "     \n",
    "    len = longestSubstr(s)\n",
    "    print(\"The longest substring without repeating characters is \", len)"
   ]
  },
  {
   "cell_type": "code",
   "execution_count": null,
   "id": "834a9d59",
   "metadata": {},
   "outputs": [],
   "source": []
  }
 ],
 "metadata": {
  "kernelspec": {
   "display_name": "Python 3 (ipykernel)",
   "language": "python",
   "name": "python3"
  },
  "language_info": {
   "codemirror_mode": {
    "name": "ipython",
    "version": 3
   },
   "file_extension": ".py",
   "mimetype": "text/x-python",
   "name": "python",
   "nbconvert_exporter": "python",
   "pygments_lexer": "ipython3",
   "version": "3.9.12"
  }
 },
 "nbformat": 4,
 "nbformat_minor": 5
}
