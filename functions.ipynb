{
 "cells": [
  {
   "cell_type": "code",
   "execution_count": 1,
   "id": "7c8f0a4e",
   "metadata": {},
   "outputs": [],
   "source": [
    "#import packages\n",
    "import sqlite3\n",
    "from sqlite3 import Error\n",
    "import pandas as pd\n",
    "import random\n",
    "import datetime\n",
    "from datetime import datetime\n",
    "from faker import Faker\n",
    "fake = Faker()"
   ]
  },
  {
   "cell_type": "code",
   "execution_count": 2,
   "id": "b29301cc",
   "metadata": {},
   "outputs": [
    {
     "name": "stdout",
     "output_type": "stream",
     "text": [
      "Connection to SQLite DB successful\n"
     ]
    },
    {
     "data": {
      "text/plain": [
       "<sqlite3.Connection at 0x7f0aa18a0a80>"
      ]
     },
     "execution_count": 2,
     "metadata": {},
     "output_type": "execute_result"
    }
   ],
   "source": [
    "#conect to database\n",
    "def create_connection(path):\n",
    "    connection = None\n",
    "    try:\n",
    "        connection = sqlite3.connect(path)\n",
    "        print(\"Connection to SQLite DB successful\")\n",
    "    except Error as e:\n",
    "        print(f\"The error '{e}' occurred\")\n",
    "\n",
    "    return connection\n",
    "\n",
    "create_connection('good2.db')"
   ]
  },
  {
   "cell_type": "code",
   "execution_count": 3,
   "id": "cad51bdc",
   "metadata": {},
   "outputs": [],
   "source": [
    "def generate_users():\n",
    "    conn = sqlite3.connect('good2.db')\n",
    "    c = conn.cursor()\n",
    "    Users = list()\n",
    "    # generating users data \n",
    "    for i in range(1, 201):\n",
    "        Creationdate = fake.date_between(start_date='-5y',end_date='now') \n",
    "        Username = fake.unique.email()\n",
    "        Password = fake.password()\n",
    "        Level = fake.random_digit()\n",
    "        Users.append((i, i, Creationdate, Username, Password, Level) )\n",
    "    c.executemany('INSERT INTO Users (Userid, Employernumber, Creationdate, Username, Password, Level) VALUES (?,?,?,?,?,?)', Users)\n",
    "    conn.commit()\n",
    "    conn.close ()\n",
    "    \n",
    "generate_users()"
   ]
  },
  {
   "cell_type": "code",
   "execution_count": null,
   "id": "52943960",
   "metadata": {},
   "outputs": [],
   "source": [
    "def select_users():\n",
    "    conn = sqlite3.connect('good2.db')\n",
    "    c = conn.cursor()\n",
    "    for row in c.execute('SELECT * FROM Users'):\n",
    "        print(row)\n",
    "    conn.commit()\n",
    "    conn.close()\n",
    "select_users()"
   ]
  },
  {
   "cell_type": "code",
   "execution_count": 4,
   "id": "3f9036d2",
   "metadata": {},
   "outputs": [],
   "source": [
    "def generate_courses():\n",
    "    conn = sqlite3.connect('good2.db')\n",
    "    c = conn.cursor()\n",
    "    Courses = list()\n",
    "    # generating courses\n",
    "    for i in range(1, 201):\n",
    "        platformid= fake.random_int(1,2)\n",
    "        creationdate = fake.date_between(start_date='-5y', end_date='now')\n",
    "        coursename = fake.job()\n",
    "        duration = fake.random_int(1,10)\n",
    "        Courses.append((i, coursename, platformid, duration, creationdate))\n",
    "    c.executemany('INSERT INTO Courses (Courseid, coursename, platformid, duration, creationdate) VALUES (?,?,?,?,?)', Courses)\n",
    "    conn.commit()\n",
    "    conn.close()\n",
    "    \n",
    "generate_courses()"
   ]
  },
  {
   "cell_type": "code",
   "execution_count": null,
   "id": "1da4ef87",
   "metadata": {},
   "outputs": [],
   "source": [
    "def select_courses():\n",
    "    conn = sqlite3.connect('good2.db')\n",
    "    c = conn.cursor()\n",
    "    for row in c.execute('SELECT * FROM Courses'):\n",
    "        print(row)\n",
    "    conn.commit()\n",
    "    conn.close()\n",
    "select_courses()"
   ]
  },
  {
   "cell_type": "code",
   "execution_count": 5,
   "id": "718b3942",
   "metadata": {},
   "outputs": [],
   "source": [
    "def generate_review():    \n",
    "    conn = sqlite3.connect('good2.db')\n",
    "    c = conn.cursor()\n",
    "    Review = list()\n",
    "    Rating = [\"Excellent\",\"Great\",\"Good\",\"Terrible\"]\n",
    "    # generating reviews\n",
    "    for i in range(1, 201):\n",
    "        LikeDislike= fake.random_int(0,1)\n",
    "        Feedback = fake.random_element(Rating)\n",
    "        RankingScore = 5-Rating.index(Feedback)\n",
    "        coursename = fake.job()\n",
    "        UserID = fake.random_int(1,200)\n",
    "        CourseID = fake.random_int(1,200)\n",
    "        Review.append((UserID, CourseID, Feedback, LikeDislike, RankingScore))\n",
    "    c.executemany('INSERT INTO Review (Userid, Courseid, Feedback, Likedislike, RankingScore) VALUES (?,?,?,?,?)', Review)\n",
    "    conn.commit()\n",
    "    conn.close()\n",
    "    \n",
    "generate_review()"
   ]
  },
  {
   "cell_type": "code",
   "execution_count": null,
   "id": "6f3967be",
   "metadata": {},
   "outputs": [],
   "source": [
    "def select_reviews():\n",
    "    conn = sqlite3.connect('good2.db')\n",
    "    c = conn.cursor()\n",
    "    for row in c.execute('SELECT * FROM Review'):\n",
    "        print(row)\n",
    "    conn.commit()\n",
    "    conn.close()\n",
    "select_reviews()"
   ]
  },
  {
   "cell_type": "code",
   "execution_count": 6,
   "id": "98bf6916",
   "metadata": {},
   "outputs": [],
   "source": [
    "def generate_certification():    \n",
    "    conn = sqlite3.connect('good2.db')\n",
    "    c = conn.cursor()\n",
    "    Certification = list()\n",
    "    # generating certs\n",
    "    for i in range(1, 700):\n",
    "        Completiondate = fake.date_between(start_date='-5y', end_date='now')\n",
    "        Userid = fake.random_int(1,200) #user and course id is randomized, lets see who does what\n",
    "        Courseid = fake.random_int(1,200)\n",
    "        Completionduration = fake.random_int(1,100)\n",
    "        Certification.append((i, Userid, Courseid, Completionduration, Completiondate))\n",
    "    c.executemany('INSERT INTO Certification (Certificationid, Userid, Courseid, Completionduration, Completiondate) VALUES (?,?,?,?,?)', Certification)\n",
    "    conn.commit()\n",
    "    conn.close()\n",
    "generate_certification()"
   ]
  },
  {
   "cell_type": "code",
   "execution_count": null,
   "id": "e279ec8b",
   "metadata": {},
   "outputs": [],
   "source": [
    "def select_certification():\n",
    "    conn = sqlite3.connect('good2.db')\n",
    "    c = conn.cursor()\n",
    "    for row in c.execute('SELECT * FROM Certification'):\n",
    "        print(row)\n",
    "    conn.commit()\n",
    "    conn.close()\n",
    "select_certification()"
   ]
  },
  {
   "cell_type": "code",
   "execution_count": 7,
   "id": "fbeb868b",
   "metadata": {},
   "outputs": [],
   "source": [
    "def generate_ongoing():\n",
    "    conn = sqlite3.connect('good2.db')\n",
    "    c = conn.cursor()\n",
    "    ongoing = list()\n",
    "    # generating ongoing training\n",
    "    #this ones tricky\n",
    "    #if user has certs, cannot be ongoing\n",
    "    c.execute('SELECT COUNT(*) FROM Certification')\n",
    "    count = sum(c.fetchone())\n",
    "    for i in range(1, count):\n",
    "        startdate = fake.date_between_dates(date_start=datetime(2015,1,1), date_end=datetime(2019,12,31))\n",
    "        status = str(fake.random_element(['complete', 'incomplete']))\n",
    "        percentage = 100\n",
    "        last = fake.date_time_between(start_date='-1y', end_date='now')\n",
    "        t = (str(i),)\n",
    "        c.execute('SELECT Userid FROM Certification WHERE Certificationid=?', t)\n",
    "        UserID = sum(c.fetchone())\n",
    "        c.execute('SELECT Courseid FROM Certification WHERE Certificationid=?', t)\n",
    "        CourseID = sum(c.fetchone())\n",
    "        status=\"complete\"\n",
    "        finishdate = fake.date_between_dates(date_start=startdate, date_end=datetime(2022,6,20))\n",
    "        ongoing.append((i, UserID, CourseID, status, percentage, startdate, finishdate, last))\n",
    "    c.executemany('INSERT INTO Ongoingtraining VALUES (?,?,?,?,?,?,?,?)', ongoing)\n",
    "    conn.commit()\n",
    "    ongoing2 = list()\n",
    "    for i in range(count,count+900):\n",
    "        startdate = fake.date_between_dates(date_start=datetime(2015,1,1), date_end=datetime(2019,12,31))\n",
    "        status = str(fake.random_element(['complete', 'incomplete']))\n",
    "        percentage = fake.random_int(1,100)\n",
    "        lastupdate = fake.date_time_between(start_date='-1y', end_date='now')\n",
    "        finishdate = \"NULL\"\n",
    "        UserID = fake.random_int(1,200) #user and course id is now randomized\n",
    "        CourseID = fake.random_int(1,200)\n",
    "        ongoing2.append((i, UserID, CourseID, status, percentage, startdate, finishdate, lastupdate))\n",
    "    c.executemany('INSERT INTO Ongoingtraining VALUES (?,?,?,?,?,?,?,?)', ongoing2)\n",
    "    conn.commit()\n",
    "    conn.close()\n",
    "generate_ongoing()"
   ]
  },
  {
   "cell_type": "code",
   "execution_count": null,
   "id": "ff927e5b",
   "metadata": {},
   "outputs": [],
   "source": [
    "def select_ongoing():\n",
    "    conn = sqlite3.connect('good2.db')\n",
    "    c = conn.cursor()\n",
    "    for row in c.execute('SELECT * FROM Ongoingtraining'):\n",
    "        print(row)\n",
    "    conn.commit()\n",
    "    conn.close()\n",
    "select_ongoing()"
   ]
  },
  {
   "cell_type": "code",
   "execution_count": null,
   "id": "d2c9ea4f",
   "metadata": {},
   "outputs": [],
   "source": []
  }
 ],
 "metadata": {
  "kernelspec": {
   "display_name": "Python 3 (ipykernel)",
   "language": "python",
   "name": "python3"
  },
  "language_info": {
   "codemirror_mode": {
    "name": "ipython",
    "version": 3
   },
   "file_extension": ".py",
   "mimetype": "text/x-python",
   "name": "python",
   "nbconvert_exporter": "python",
   "pygments_lexer": "ipython3",
   "version": "3.9.12"
  }
 },
 "nbformat": 4,
 "nbformat_minor": 5
}
